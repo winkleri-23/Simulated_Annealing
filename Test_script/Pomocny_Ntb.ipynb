{
 "cells": [
  {
   "cell_type": "markdown",
   "metadata": {},
   "source": [
    "## Řešení problému max. vážené splnitelnosti booleovské formule (MWSAT) pokročilou iterativní metodou"
   ]
  },
  {
   "cell_type": "markdown",
   "source": [],
   "metadata": {
    "collapsed": false
   }
  },
  {
   "cell_type": "markdown",
   "metadata": {},
   "source": [
    "# Zadání\n",
    "\n",
    "Problém řešte některou z pokročilých heuristik:\n",
    "\n",
    "- simulované ochlazování\n",
    "- genetický algoritmus\n",
    "\n",
    "Heuristika musí zvádat instance rozdílných vlastností (zejména velikosti) bez interaktivních zásahů. Minimální rozsah velikosti je 20–50 pro nejméně kvalitní práce. Je třeba doložit práci heuristiky v celém stanoveném rozsahu (nikoliv pro jednu velikost někde v rozsahu).\n",
    "\n",
    "Základní kód musí být vypracován samostatně. Jazyk je libovolný. Komponenty použité z jiných zdrojů (knihovny, moduly) musí být jasně citovány.\n",
    "\n",
    "Po nasazení heuristiky ověřte její vlastnosti experimentálním vyhodnocením, které přesvědčivě doloží, jakou třídu (rozsah, velikosti…​) instancí heuristika zpracovává. Doporučujeme používat metriky nezávislé na platformě. Zejména v případě použití nestandardních, např. originálních technik doložte jejich účinnost experimentálně (což vyloučí případné diskuse o jejich vhodnosti).\n",
    "\n",
    "Zpráva musí dokládat Váš racionální přístup k řešení problému, tedy celý pracovní postup. Ve zprávě je nutno popsat obě fáze nasazení heuristiky, jak nastavení, (white box fáze), tak závěrečné vyhodnocení heuristiky (black box fáze). Práce bez jasně oddělených těchto dvou fází bude pokládána za neúplnou. Protože zpráva dokládá Váš postup, prosím v popisu white box fáze uvádějte i neúspěšné pokusy, slepé uličky atd. V opačném případě vzniká podezření na volbu parametrů ad hoc. V popisu black box fáze uveďte, proč pokládáte výsledky za průkazné (alespoň úvahou).\n",
    "\n",
    "Prosím používejte definované formáty pro instance a řešení, usnadníte tak lepší přizpůsobení zkušebních instancí.\n",
    "\n",
    "Odkaz na kompletní zadání: https://courses.fit.cvut.cz/NI-KOP/homeworks/files/task2.html"
   ]
  },
  {
   "cell_type": "markdown",
   "metadata": {},
   "source": [
    "# Heurestika\n",
    "K řešení našeho problému jsem se rozhodl použít Simulované ochlazování. Nasazená heurestika bude řešit problém 3SAT."
   ]
  },
  {
   "cell_type": "markdown",
   "source": [
    "## Relativní chyba"
   ],
   "metadata": {
    "collapsed": false
   }
  },
  {
   "cell_type": "code",
   "execution_count": 32,
   "metadata": {},
   "outputs": [],
   "source": [
    "def Relative_Error(myData, Optimal_data):\n",
    "    Lines_my_data = MyData.readlines()\n",
    "    Lines_Optimal_data = Optimal_data.readlines()\n",
    "    success = 0\n",
    "    wrong = 0\n",
    "    diff = 0\n",
    "    prc = 0\n",
    "    sumprc = 0\n",
    "    wrongvalue = 0\n",
    "\n",
    "    for line in Lines_my_data:\n",
    "        InstanceName = line.split(\" \")\n",
    "        for optimal_line in Lines_Optimal_data:\n",
    "            Optimal_Instance_Name = optimal_line.split(\" \")\n",
    "            #print(InstanceName[0][1:])\n",
    "            #print(Optimal_Instance_Name[0])\n",
    "            if InstanceName[0][1:] == Optimal_Instance_Name[0]:\n",
    "                if InstanceName[1] == Optimal_Instance_Name[1]:\n",
    "                    success = success + 1\n",
    "                else:\n",
    "                    #print(InstanceName[0][1:])\n",
    "                    #print(\"--> value: \" + str(InstanceName[1]) + \"  Optimal Value: \" + str(Optimal_Instance_Name[1]))\n",
    "                    myvalue = int(InstanceName[1])\n",
    "                    optValue = int(Optimal_Instance_Name[1])\n",
    "                    diff = diff + abs(myvalue- optValue)\n",
    "                    newprc = diff / abs(optValue / 100)\n",
    "                    wrong = wrong + 1\n",
    "                    wrongvalue = wrongvalue + abs(optValue)\n",
    "                    percentage = ((( abs(abs(optValue) - (abs(myvalue) )))/ (abs(optValue)) ) *100 )\n",
    "                    #print(str(percentage) + \" \" + str(myvalue) + \" \" + str(optValue))\n",
    "                    prc = prc + percentage\n",
    "                    sumprc = sumprc + newprc\n",
    "                    #print(InstanceName[1])\n",
    "                    #print(Optimal_Instance_Name[1])\n",
    "                    #print(\"Percentage: \" + str(percentage))\n",
    "                    #print(str(int(InstanceName[0][1:]) - int(Optimal_Instance_Name[1])) )\n",
    "                    #print(InstanceName[1] )\n",
    "                    #print(\"========\")\n",
    "                break\n",
    "\n",
    "    if wrong !=0:\n",
    "        print(\"Success: \"  + str(success))\n",
    "        print(\"Optimal solution was not found: \" + str(wrong))\n",
    "        print(\"Success ratio: \" + str(success /(success+wrong) ))\n",
    "        #print (\"Relative \" + str(prc / (success + wrong)))\n",
    "        #print(\"Relative error: \" + str(prc/wrong))\n",
    "        #print(\"NewRelative: \" + str(prc))\n",
    "    else:\n",
    "        print(\"Success: \"  + str(success))\n",
    "        print(\"Success ratio: \" + str(success /(success+wrong) ))\n",
    "\n",
    "\n",
    "\n",
    "\n",
    "def timePrint(path):\n",
    "    measured_data = pd.read_csv(path)\n",
    "    Steps = measured_data[\"time\"]\n",
    "    cnt = 0\n",
    "    sum = 0\n",
    "    for i in Steps:\n",
    "        cnt = cnt + 1\n",
    "        sum = sum + i"
   ]
  },
  {
   "cell_type": "code",
   "execution_count": 33,
   "outputs": [],
   "source": [
    "import matplotlib.pyplot as plt\n",
    "import pandas as pd\n",
    "import numpy as np\n",
    "import plotly.io as pio\n",
    "pio.renderers.default='notebook'\n",
    "from IPython.display import display, HTML\n"
   ],
   "metadata": {
    "collapsed": false
   }
  },
  {
   "cell_type": "markdown",
   "source": [],
   "metadata": {
    "collapsed": false
   }
  },
  {
   "cell_type": "markdown",
   "source": [
    "## Cooling factor = 0.8"
   ],
   "metadata": {
    "collapsed": false
   }
  },
  {
   "cell_type": "code",
   "execution_count": 34,
   "outputs": [
    {
     "name": "stdout",
     "output_type": "stream",
     "text": [
      "Success: 77\n",
      "Optimal solution was not found: 23\n",
      "Success ratio: 0.77\n"
     ]
    }
   ],
   "source": [
    "MyData = open(\"../Measurements-final/M/M200.800000.dat\", \"r\")\n",
    "Optimal_data = open(\"../../../wuf20-91R/wuf20-91R-M-opt.dat\", \"r\")\n",
    "Relative_Error(MyData, Optimal_data)"
   ],
   "metadata": {
    "collapsed": false
   }
  },
  {
   "cell_type": "code",
   "execution_count": 35,
   "outputs": [
    {
     "name": "stdout",
     "output_type": "stream",
     "text": [
      "132.68\n"
     ]
    }
   ],
   "source": [
    "measured_data = pd.read_csv(\"../Measurements-final/M/timeM200.800000.csv\")\n",
    "Steps = measured_data[\"time\"]\n",
    "cnt = 0\n",
    "sum = 0\n",
    "for i in Steps:\n",
    "    cnt = cnt + 1\n",
    "    sum = sum + i\n",
    "\n",
    "print(sum/cnt)"
   ],
   "metadata": {
    "collapsed": false
   }
  },
  {
   "cell_type": "markdown",
   "source": [
    "## Cooling factor = 0.90"
   ],
   "metadata": {
    "collapsed": false
   }
  },
  {
   "cell_type": "code",
   "execution_count": 36,
   "outputs": [
    {
     "name": "stdout",
     "output_type": "stream",
     "text": [
      "Success: 87\n",
      "Optimal solution was not found: 13\n",
      "Success ratio: 0.87\n"
     ]
    }
   ],
   "source": [
    "MyData = open(\"../Measurements-final/M/M200.900000.dat\", \"r\")\n",
    "Optimal_data = open(\"../../../wuf20-91R/wuf20-91R-M-opt.dat\", \"r\")\n",
    "Relative_Error(MyData, Optimal_data)"
   ],
   "metadata": {
    "collapsed": false
   }
  },
  {
   "cell_type": "code",
   "execution_count": 37,
   "outputs": [
    {
     "name": "stdout",
     "output_type": "stream",
     "text": [
      "254.94\n"
     ]
    }
   ],
   "source": [
    "measured_data = pd.read_csv(\"../Measurements-final/M/timeM200.900000.csv\")\n",
    "Steps = measured_data[\"time\"]\n",
    "cnt = 0\n",
    "sum = 0\n",
    "for i in Steps:\n",
    "    cnt = cnt + 1\n",
    "    sum = sum + i\n",
    "\n",
    "print(sum/cnt)"
   ],
   "metadata": {
    "collapsed": false
   }
  },
  {
   "cell_type": "markdown",
   "source": [
    "## Cooling factor = 0.95"
   ],
   "metadata": {
    "collapsed": false
   }
  },
  {
   "cell_type": "code",
   "execution_count": 38,
   "outputs": [
    {
     "name": "stdout",
     "output_type": "stream",
     "text": [
      "Success: 92\n",
      "Optimal solution was not found: 8\n",
      "Success ratio: 0.92\n"
     ]
    }
   ],
   "source": [
    "MyData = open(\"../Measurements-final/M/M200.950000.dat\", \"r\")\n",
    "Optimal_data = open(\"../../../wuf20-91R/wuf20-91R-M-opt.dat\", \"r\")\n",
    "Relative_Error(MyData, Optimal_data)"
   ],
   "metadata": {
    "collapsed": false
   }
  },
  {
   "cell_type": "code",
   "execution_count": 39,
   "outputs": [
    {
     "name": "stdout",
     "output_type": "stream",
     "text": [
      "660.65\n"
     ]
    }
   ],
   "source": [
    "measured_data = pd.read_csv(\"../Measurements-final/M/timeM200.950000.csv\")\n",
    "Steps = measured_data[\"time\"]\n",
    "cnt = 0\n",
    "sum = 0\n",
    "for i in Steps:\n",
    "    cnt = cnt + 1\n",
    "    sum = sum + i\n",
    "\n",
    "print(sum/cnt)"
   ],
   "metadata": {
    "collapsed": false
   }
  },
  {
   "cell_type": "markdown",
   "source": [
    "## Cooling factor  = 0.99"
   ],
   "metadata": {
    "collapsed": false
   }
  },
  {
   "cell_type": "code",
   "execution_count": 40,
   "outputs": [
    {
     "name": "stdout",
     "output_type": "stream",
     "text": [
      "Success: 100\n",
      "Success ratio: 1.0\n"
     ]
    }
   ],
   "source": [
    "MyData = open(\"../Measurements-final/M/M200.990000.dat\", \"r\")\n",
    "Optimal_data = open(\"../../../wuf20-91R/wuf20-91R-M-opt.dat\", \"r\")\n",
    "Relative_Error(MyData, Optimal_data)"
   ],
   "metadata": {
    "collapsed": false
   }
  },
  {
   "cell_type": "code",
   "execution_count": 41,
   "outputs": [
    {
     "name": "stdout",
     "output_type": "stream",
     "text": [
      "2887.96\n"
     ]
    }
   ],
   "source": [
    "measured_data = pd.read_csv(\"../Measurements-final/M/timeM200.990000.csv\")\n",
    "Steps = measured_data[\"time\"]\n",
    "cnt = 0\n",
    "sum = 0\n",
    "for i in Steps:\n",
    "    cnt = cnt + 1\n",
    "    sum = sum + i\n",
    "\n",
    "print(sum/cnt)"
   ],
   "metadata": {
    "collapsed": false
   }
  },
  {
   "cell_type": "code",
   "execution_count": 42,
   "outputs": [
    {
     "data": {
      "text/plain": "<Figure size 640x480 with 1 Axes>",
      "image/png": "[encoded data removed]"
     },
     "metadata": {},
     "output_type": "display_data"
    }
   ],
   "source": [
    "measured_data = pd.read_csv(\"../Measurements-final/Steps/wuf50-0844_steps_weight0.950000.csv\")\n",
    "Steps = measured_data[\"Steps\"]\n",
    "Conf_Weight = measured_data[\"Weight\"]\n",
    "\n",
    "plt.title('Vývoj váhy přijatých řešení při běhu programu')\n",
    "plt.plot(Steps, Conf_Weight, color='green', linewidth = 1, markerfacecolor='blue')\n",
    "\n",
    "plt.xlabel(\"Počet iterací\")\n",
    "plt.ylabel(\"Váha přijatého řešení\")\n",
    "\n",
    "#plt.savefig(\"../graphs/wuf20-043_Prubeh_95.png\")\n",
    "\n",
    "plt.show()"
   ],
   "metadata": {
    "collapsed": false
   }
  },
  {
   "cell_type": "markdown",
   "source": [
    "## Cooling factor  = 0.8 && wuf-50-218R"
   ],
   "metadata": {
    "collapsed": false
   }
  },
  {
   "cell_type": "code",
   "execution_count": 43,
   "outputs": [
    {
     "name": "stdout",
     "output_type": "stream",
     "text": [
      "Success: 39\n",
      "Optimal solution was not found: 61\n",
      "Success ratio: 0.39\n"
     ]
    }
   ],
   "source": [
    "MyData = open(\"../Measurements-final/M/M500.800000.dat\", \"r\")\n",
    "Optimal_data = open(\"../../../wuf50-218R/wuf50-218R-M-opt.dat\", \"r\")\n",
    "Relative_Error(MyData, Optimal_data)"
   ],
   "metadata": {
    "collapsed": false
   }
  },
  {
   "cell_type": "code",
   "execution_count": 44,
   "outputs": [
    {
     "name": "stdout",
     "output_type": "stream",
     "text": [
      "146.36\n"
     ]
    }
   ],
   "source": [
    "measured_data = pd.read_csv(\"../Measurements-final/M/timeM500.800000.csv\")\n",
    "Steps = measured_data[\"time\"]\n",
    "cnt = 0\n",
    "sum = 0\n",
    "for i in Steps:\n",
    "    cnt = cnt + 1\n",
    "    sum = sum + i\n",
    "\n",
    "print(sum/cnt)"
   ],
   "metadata": {
    "collapsed": false
   }
  },
  {
   "cell_type": "markdown",
   "source": [
    "## Cooling factor  = 0.9 && wuf-50-218R"
   ],
   "metadata": {
    "collapsed": false
   }
  },
  {
   "cell_type": "code",
   "execution_count": 45,
   "outputs": [
    {
     "name": "stdout",
     "output_type": "stream",
     "text": [
      "Success: 51\n",
      "Optimal solution was not found: 49\n",
      "Success ratio: 0.51\n"
     ]
    }
   ],
   "source": [
    "MyData = open(\"../Measurements-final/M/M500.900000.dat\", \"r\")\n",
    "Optimal_data = open(\"../../../wuf50-218R/wuf50-218R-M-opt.dat\", \"r\")\n",
    "Relative_Error(MyData, Optimal_data)"
   ],
   "metadata": {
    "collapsed": false
   }
  },
  {
   "cell_type": "code",
   "execution_count": 46,
   "outputs": [
    {
     "name": "stdout",
     "output_type": "stream",
     "text": [
      "338.8\n"
     ]
    }
   ],
   "source": [
    "measured_data = pd.read_csv(\"../Measurements-final/M/timeM500.900000.csv\")\n",
    "Steps = measured_data[\"time\"]\n",
    "cnt = 0\n",
    "sum = 0\n",
    "for i in Steps:\n",
    "    cnt = cnt + 1\n",
    "    sum = sum + i\n",
    "\n",
    "print(sum/cnt)"
   ],
   "metadata": {
    "collapsed": false
   }
  },
  {
   "cell_type": "markdown",
   "source": [
    "## Cooling factor  = 0.95 && wuf-50-218R"
   ],
   "metadata": {
    "collapsed": false
   }
  },
  {
   "cell_type": "code",
   "execution_count": 47,
   "outputs": [
    {
     "name": "stdout",
     "output_type": "stream",
     "text": [
      "Success: 68\n",
      "Optimal solution was not found: 32\n",
      "Success ratio: 0.68\n"
     ]
    }
   ],
   "source": [
    "MyData = open(\"../Measurements-final/M/M500.950000.dat\", \"r\")\n",
    "Optimal_data = open(\"../../../wuf50-218R/wuf50-218R-M-opt.dat\", \"r\")\n",
    "Relative_Error(MyData, Optimal_data)"
   ],
   "metadata": {
    "collapsed": false
   }
  },
  {
   "cell_type": "code",
   "execution_count": 48,
   "outputs": [
    {
     "name": "stdout",
     "output_type": "stream",
     "text": [
      "622.94\n"
     ]
    }
   ],
   "source": [
    "measured_data = pd.read_csv(\"../Measurements-final/M/timeM500.950000.csv\")\n",
    "Steps = measured_data[\"time\"]\n",
    "cnt = 0\n",
    "sum = 0\n",
    "for i in Steps:\n",
    "    cnt = cnt + 1\n",
    "    sum = sum + i\n",
    "\n",
    "print(sum/cnt)"
   ],
   "metadata": {
    "collapsed": false
   }
  },
  {
   "cell_type": "markdown",
   "source": [
    "## Cooling factor  = 0.99 && wuf-50-218R"
   ],
   "metadata": {
    "collapsed": false
   }
  },
  {
   "cell_type": "code",
   "execution_count": 49,
   "outputs": [
    {
     "name": "stdout",
     "output_type": "stream",
     "text": [
      "Success: 91\n",
      "Optimal solution was not found: 9\n",
      "Success ratio: 0.91\n"
     ]
    }
   ],
   "source": [
    "MyData = open(\"../Measurements-final/M/M500.990000.dat\", \"r\")\n",
    "Optimal_data = open(\"../../../wuf50-218R/wuf50-218R-M-opt.dat\", \"r\")\n",
    "Relative_Error(MyData, Optimal_data)"
   ],
   "metadata": {
    "collapsed": false
   }
  },
  {
   "cell_type": "code",
   "execution_count": 50,
   "outputs": [
    {
     "name": "stdout",
     "output_type": "stream",
     "text": [
      "3419.68\n"
     ]
    }
   ],
   "source": [
    "measured_data = pd.read_csv(\"../Measurements-final/M/timeM500.990000.csv\")\n",
    "Steps = measured_data[\"time\"]\n",
    "cnt = 0\n",
    "sum = 0\n",
    "for i in Steps:\n",
    "    cnt = cnt + 1\n",
    "    sum = sum + i\n",
    "\n",
    "print(sum/cnt)"
   ],
   "metadata": {
    "collapsed": false
   }
  },
  {
   "cell_type": "markdown",
   "source": [
    "## Cooling factor  = 0.9 && wuf-50-218R && Varianta B - InitT"
   ],
   "metadata": {
    "collapsed": false
   }
  },
  {
   "cell_type": "code",
   "execution_count": 51,
   "outputs": [
    {
     "name": "stdout",
     "output_type": "stream",
     "text": [
      "Success: 92\n",
      "Optimal solution was not found: 8\n",
      "Success ratio: 0.92\n"
     ]
    }
   ],
   "source": [
    "MyData = open(\"../Measurements-final/M/M500.990000timeVarB.dat\", \"r\")\n",
    "Optimal_data = open(\"../../../wuf50-218R/wuf50-218R-M-opt.dat\", \"r\")\n",
    "Relative_Error(MyData, Optimal_data)"
   ],
   "metadata": {
    "collapsed": false
   }
  },
  {
   "cell_type": "markdown",
   "source": [
    "## Cooling factor  = 0.9 && wuf-50-218R && Varianta A - InitT"
   ],
   "metadata": {
    "collapsed": false
   }
  },
  {
   "cell_type": "code",
   "execution_count": 52,
   "outputs": [
    {
     "name": "stdout",
     "output_type": "stream",
     "text": [
      "Success: 98\n",
      "Optimal solution was not found: 2\n",
      "Success ratio: 0.98\n"
     ]
    }
   ],
   "source": [
    "MyData = open(\"../Measurements-final/M/M500.990000eqA.dat\", \"r\")\n",
    "Optimal_data = open(\"../../../wuf50-218R/wuf50-218R-M-opt.dat\", \"r\")\n",
    "Relative_Error(MyData, Optimal_data)"
   ],
   "metadata": {
    "collapsed": false
   }
  },
  {
   "cell_type": "code",
   "execution_count": 53,
   "outputs": [
    {
     "name": "stdout",
     "output_type": "stream",
     "text": [
      "5105.72\n"
     ]
    }
   ],
   "source": [
    "measured_data = pd.read_csv(\"../Measurements-final/M/timeeqAM500.950000.csv\")\n",
    "Steps = measured_data[\"time\"]\n",
    "cnt = 0\n",
    "sum = 0\n",
    "for i in Steps:\n",
    "    cnt = cnt + 1\n",
    "    sum = sum + i\n",
    "\n",
    "print(sum/cnt)"
   ],
   "metadata": {
    "collapsed": false
   }
  },
  {
   "cell_type": "markdown",
   "source": [
    "## BestNeighbour"
   ],
   "metadata": {
    "collapsed": false
   }
  },
  {
   "cell_type": "code",
   "execution_count": 54,
   "outputs": [
    {
     "name": "stdout",
     "output_type": "stream",
     "text": [
      "Success: 57\n",
      "Optimal solution was not found: 3\n",
      "Success ratio: 0.95\n"
     ]
    }
   ],
   "source": [
    "\n",
    "MyData = open(\"../Measurements-final/M/M500.990000BestN.dat\", \"r\")\n",
    "Optimal_data = open(\"../../../wuf50-218R/wuf50-218R-M-opt.dat\", \"r\")\n",
    "Relative_Error(MyData, Optimal_data)"
   ],
   "metadata": {
    "collapsed": false
   }
  },
  {
   "cell_type": "code",
   "execution_count": 55,
   "outputs": [
    {
     "name": "stdout",
     "output_type": "stream",
     "text": [
      "Success: 94\n",
      "Optimal solution was not found: 6\n",
      "Success ratio: 0.94\n"
     ]
    }
   ],
   "source": [
    "MyData = open(\"../Measurements-final/M/M500.950000eqA.dat\", \"r\")\n",
    "Optimal_data = open(\"../../../wuf50-218R/wuf50-218R-M-opt.dat\", \"r\")\n",
    "Relative_Error(MyData, Optimal_data)"
   ],
   "metadata": {
    "collapsed": false
   }
  },
  {
   "cell_type": "markdown",
   "source": [
    "## RESET"
   ],
   "metadata": {
    "collapsed": false
   }
  },
  {
   "cell_type": "code",
   "execution_count": 56,
   "outputs": [
    {
     "name": "stdout",
     "output_type": "stream",
     "text": [
      "Success: 6\n",
      "Optimal solution was not found: 2\n",
      "Success ratio: 0.75\n"
     ]
    }
   ],
   "source": [
    "MyData = open(\"../Measurements-final/M/M500.920000ResetBestN.dat\", \"r\")\n",
    "Optimal_data = open(\"../../../wuf50-218R/wuf50-218R-M-opt.dat\", \"r\")\n",
    "Relative_Error(MyData, Optimal_data)"
   ],
   "metadata": {
    "collapsed": false
   }
  },
  {
   "cell_type": "code",
   "execution_count": 57,
   "outputs": [
    {
     "name": "stdout",
     "output_type": "stream",
     "text": [
      "5105.72\n"
     ]
    }
   ],
   "source": [
    "measured_data = pd.read_csv(\"../Measurements-final/M/timeeqAM500.950000.csv\")\n",
    "Steps = measured_data[\"time\"]\n",
    "cnt = 0\n",
    "sum = 0\n",
    "for i in Steps:\n",
    "    cnt = cnt + 1\n",
    "    sum = sum + i\n",
    "\n",
    "print(sum/cnt)"
   ],
   "metadata": {
    "collapsed": false
   }
  },
  {
   "cell_type": "markdown",
   "source": [
    "## 5ta iterace"
   ],
   "metadata": {
    "collapsed": false
   }
  },
  {
   "cell_type": "code",
   "execution_count": 58,
   "outputs": [
    {
     "name": "stdout",
     "output_type": "stream",
     "text": [
      "Success: 100\n",
      "Success ratio: 1.0\n"
     ]
    }
   ],
   "source": [
    "MyData = open(\"../Measurements-final/M/M200.950000ResetBestN.dat\", \"r\")\n",
    "Optimal_data = open(\"../../../wuf20-91R/wuf20-91R-M-opt.dat\", \"r\")\n",
    "Relative_Error(MyData, Optimal_data)"
   ],
   "metadata": {
    "collapsed": false
   }
  },
  {
   "cell_type": "code",
   "execution_count": 59,
   "outputs": [
    {
     "name": "stdout",
     "output_type": "stream",
     "text": [
      "4273.04\n"
     ]
    }
   ],
   "source": [
    "measured_data = pd.read_csv(\"../Measurements-final/M/M200.950000ResetBestN.csv\")\n",
    "Steps = measured_data[\"time\"]\n",
    "cnt = 0\n",
    "sum = 0\n",
    "for i in Steps:\n",
    "    cnt = cnt + 1\n",
    "    sum = sum + i\n",
    "\n",
    "print(sum/cnt)"
   ],
   "metadata": {
    "collapsed": false
   }
  },
  {
   "cell_type": "code",
   "execution_count": 60,
   "outputs": [
    {
     "ename": "FileNotFoundError",
     "evalue": "[Errno 2] No such file or directory: '../Measurements/M/timeM200.800000Multiple.csv'",
     "output_type": "error",
     "traceback": [
      "\u001B[0;31m---------------------------------------------------------------------------\u001B[0m",
      "\u001B[0;31mFileNotFoundError\u001B[0m                         Traceback (most recent call last)",
      "Cell \u001B[0;32mIn [60], line 1\u001B[0m\n\u001B[0;32m----> 1\u001B[0m measured_data \u001B[38;5;241m=\u001B[39m \u001B[43mpd\u001B[49m\u001B[38;5;241;43m.\u001B[39;49m\u001B[43mread_csv\u001B[49m\u001B[43m(\u001B[49m\u001B[38;5;124;43m\"\u001B[39;49m\u001B[38;5;124;43m../Measurements/M/timeM200.800000Multiple.csv\u001B[39;49m\u001B[38;5;124;43m\"\u001B[39;49m\u001B[43m)\u001B[49m\n\u001B[1;32m      2\u001B[0m Steps \u001B[38;5;241m=\u001B[39m measured_data[\u001B[38;5;124m\"\u001B[39m\u001B[38;5;124mtime\u001B[39m\u001B[38;5;124m\"\u001B[39m]\n\u001B[1;32m      3\u001B[0m cnt \u001B[38;5;241m=\u001B[39m \u001B[38;5;241m0\u001B[39m\n",
      "File \u001B[0;32m/Library/Frameworks/Python.framework/Versions/3.10/lib/python3.10/site-packages/pandas/util/_decorators.py:211\u001B[0m, in \u001B[0;36mdeprecate_kwarg.<locals>._deprecate_kwarg.<locals>.wrapper\u001B[0;34m(*args, **kwargs)\u001B[0m\n\u001B[1;32m    209\u001B[0m     \u001B[38;5;28;01melse\u001B[39;00m:\n\u001B[1;32m    210\u001B[0m         kwargs[new_arg_name] \u001B[38;5;241m=\u001B[39m new_arg_value\n\u001B[0;32m--> 211\u001B[0m \u001B[38;5;28;01mreturn\u001B[39;00m \u001B[43mfunc\u001B[49m\u001B[43m(\u001B[49m\u001B[38;5;241;43m*\u001B[39;49m\u001B[43margs\u001B[49m\u001B[43m,\u001B[49m\u001B[43m \u001B[49m\u001B[38;5;241;43m*\u001B[39;49m\u001B[38;5;241;43m*\u001B[39;49m\u001B[43mkwargs\u001B[49m\u001B[43m)\u001B[49m\n",
      "File \u001B[0;32m/Library/Frameworks/Python.framework/Versions/3.10/lib/python3.10/site-packages/pandas/util/_decorators.py:331\u001B[0m, in \u001B[0;36mdeprecate_nonkeyword_arguments.<locals>.decorate.<locals>.wrapper\u001B[0;34m(*args, **kwargs)\u001B[0m\n\u001B[1;32m    325\u001B[0m \u001B[38;5;28;01mif\u001B[39;00m \u001B[38;5;28mlen\u001B[39m(args) \u001B[38;5;241m>\u001B[39m num_allow_args:\n\u001B[1;32m    326\u001B[0m     warnings\u001B[38;5;241m.\u001B[39mwarn(\n\u001B[1;32m    327\u001B[0m         msg\u001B[38;5;241m.\u001B[39mformat(arguments\u001B[38;5;241m=\u001B[39m_format_argument_list(allow_args)),\n\u001B[1;32m    328\u001B[0m         \u001B[38;5;167;01mFutureWarning\u001B[39;00m,\n\u001B[1;32m    329\u001B[0m         stacklevel\u001B[38;5;241m=\u001B[39mfind_stack_level(),\n\u001B[1;32m    330\u001B[0m     )\n\u001B[0;32m--> 331\u001B[0m \u001B[38;5;28;01mreturn\u001B[39;00m \u001B[43mfunc\u001B[49m\u001B[43m(\u001B[49m\u001B[38;5;241;43m*\u001B[39;49m\u001B[43margs\u001B[49m\u001B[43m,\u001B[49m\u001B[43m \u001B[49m\u001B[38;5;241;43m*\u001B[39;49m\u001B[38;5;241;43m*\u001B[39;49m\u001B[43mkwargs\u001B[49m\u001B[43m)\u001B[49m\n",
      "File \u001B[0;32m/Library/Frameworks/Python.framework/Versions/3.10/lib/python3.10/site-packages/pandas/io/parsers/readers.py:950\u001B[0m, in \u001B[0;36mread_csv\u001B[0;34m(filepath_or_buffer, sep, delimiter, header, names, index_col, usecols, squeeze, prefix, mangle_dupe_cols, dtype, engine, converters, true_values, false_values, skipinitialspace, skiprows, skipfooter, nrows, na_values, keep_default_na, na_filter, verbose, skip_blank_lines, parse_dates, infer_datetime_format, keep_date_col, date_parser, dayfirst, cache_dates, iterator, chunksize, compression, thousands, decimal, lineterminator, quotechar, quoting, doublequote, escapechar, comment, encoding, encoding_errors, dialect, error_bad_lines, warn_bad_lines, on_bad_lines, delim_whitespace, low_memory, memory_map, float_precision, storage_options)\u001B[0m\n\u001B[1;32m    935\u001B[0m kwds_defaults \u001B[38;5;241m=\u001B[39m _refine_defaults_read(\n\u001B[1;32m    936\u001B[0m     dialect,\n\u001B[1;32m    937\u001B[0m     delimiter,\n\u001B[0;32m   (...)\u001B[0m\n\u001B[1;32m    946\u001B[0m     defaults\u001B[38;5;241m=\u001B[39m{\u001B[38;5;124m\"\u001B[39m\u001B[38;5;124mdelimiter\u001B[39m\u001B[38;5;124m\"\u001B[39m: \u001B[38;5;124m\"\u001B[39m\u001B[38;5;124m,\u001B[39m\u001B[38;5;124m\"\u001B[39m},\n\u001B[1;32m    947\u001B[0m )\n\u001B[1;32m    948\u001B[0m kwds\u001B[38;5;241m.\u001B[39mupdate(kwds_defaults)\n\u001B[0;32m--> 950\u001B[0m \u001B[38;5;28;01mreturn\u001B[39;00m \u001B[43m_read\u001B[49m\u001B[43m(\u001B[49m\u001B[43mfilepath_or_buffer\u001B[49m\u001B[43m,\u001B[49m\u001B[43m \u001B[49m\u001B[43mkwds\u001B[49m\u001B[43m)\u001B[49m\n",
      "File \u001B[0;32m/Library/Frameworks/Python.framework/Versions/3.10/lib/python3.10/site-packages/pandas/io/parsers/readers.py:605\u001B[0m, in \u001B[0;36m_read\u001B[0;34m(filepath_or_buffer, kwds)\u001B[0m\n\u001B[1;32m    602\u001B[0m _validate_names(kwds\u001B[38;5;241m.\u001B[39mget(\u001B[38;5;124m\"\u001B[39m\u001B[38;5;124mnames\u001B[39m\u001B[38;5;124m\"\u001B[39m, \u001B[38;5;28;01mNone\u001B[39;00m))\n\u001B[1;32m    604\u001B[0m \u001B[38;5;66;03m# Create the parser.\u001B[39;00m\n\u001B[0;32m--> 605\u001B[0m parser \u001B[38;5;241m=\u001B[39m \u001B[43mTextFileReader\u001B[49m\u001B[43m(\u001B[49m\u001B[43mfilepath_or_buffer\u001B[49m\u001B[43m,\u001B[49m\u001B[43m \u001B[49m\u001B[38;5;241;43m*\u001B[39;49m\u001B[38;5;241;43m*\u001B[39;49m\u001B[43mkwds\u001B[49m\u001B[43m)\u001B[49m\n\u001B[1;32m    607\u001B[0m \u001B[38;5;28;01mif\u001B[39;00m chunksize \u001B[38;5;129;01mor\u001B[39;00m iterator:\n\u001B[1;32m    608\u001B[0m     \u001B[38;5;28;01mreturn\u001B[39;00m parser\n",
      "File \u001B[0;32m/Library/Frameworks/Python.framework/Versions/3.10/lib/python3.10/site-packages/pandas/io/parsers/readers.py:1442\u001B[0m, in \u001B[0;36mTextFileReader.__init__\u001B[0;34m(self, f, engine, **kwds)\u001B[0m\n\u001B[1;32m   1439\u001B[0m     \u001B[38;5;28mself\u001B[39m\u001B[38;5;241m.\u001B[39moptions[\u001B[38;5;124m\"\u001B[39m\u001B[38;5;124mhas_index_names\u001B[39m\u001B[38;5;124m\"\u001B[39m] \u001B[38;5;241m=\u001B[39m kwds[\u001B[38;5;124m\"\u001B[39m\u001B[38;5;124mhas_index_names\u001B[39m\u001B[38;5;124m\"\u001B[39m]\n\u001B[1;32m   1441\u001B[0m \u001B[38;5;28mself\u001B[39m\u001B[38;5;241m.\u001B[39mhandles: IOHandles \u001B[38;5;241m|\u001B[39m \u001B[38;5;28;01mNone\u001B[39;00m \u001B[38;5;241m=\u001B[39m \u001B[38;5;28;01mNone\u001B[39;00m\n\u001B[0;32m-> 1442\u001B[0m \u001B[38;5;28mself\u001B[39m\u001B[38;5;241m.\u001B[39m_engine \u001B[38;5;241m=\u001B[39m \u001B[38;5;28;43mself\u001B[39;49m\u001B[38;5;241;43m.\u001B[39;49m\u001B[43m_make_engine\u001B[49m\u001B[43m(\u001B[49m\u001B[43mf\u001B[49m\u001B[43m,\u001B[49m\u001B[43m \u001B[49m\u001B[38;5;28;43mself\u001B[39;49m\u001B[38;5;241;43m.\u001B[39;49m\u001B[43mengine\u001B[49m\u001B[43m)\u001B[49m\n",
      "File \u001B[0;32m/Library/Frameworks/Python.framework/Versions/3.10/lib/python3.10/site-packages/pandas/io/parsers/readers.py:1735\u001B[0m, in \u001B[0;36mTextFileReader._make_engine\u001B[0;34m(self, f, engine)\u001B[0m\n\u001B[1;32m   1733\u001B[0m     \u001B[38;5;28;01mif\u001B[39;00m \u001B[38;5;124m\"\u001B[39m\u001B[38;5;124mb\u001B[39m\u001B[38;5;124m\"\u001B[39m \u001B[38;5;129;01mnot\u001B[39;00m \u001B[38;5;129;01min\u001B[39;00m mode:\n\u001B[1;32m   1734\u001B[0m         mode \u001B[38;5;241m+\u001B[39m\u001B[38;5;241m=\u001B[39m \u001B[38;5;124m\"\u001B[39m\u001B[38;5;124mb\u001B[39m\u001B[38;5;124m\"\u001B[39m\n\u001B[0;32m-> 1735\u001B[0m \u001B[38;5;28mself\u001B[39m\u001B[38;5;241m.\u001B[39mhandles \u001B[38;5;241m=\u001B[39m \u001B[43mget_handle\u001B[49m\u001B[43m(\u001B[49m\n\u001B[1;32m   1736\u001B[0m \u001B[43m    \u001B[49m\u001B[43mf\u001B[49m\u001B[43m,\u001B[49m\n\u001B[1;32m   1737\u001B[0m \u001B[43m    \u001B[49m\u001B[43mmode\u001B[49m\u001B[43m,\u001B[49m\n\u001B[1;32m   1738\u001B[0m \u001B[43m    \u001B[49m\u001B[43mencoding\u001B[49m\u001B[38;5;241;43m=\u001B[39;49m\u001B[38;5;28;43mself\u001B[39;49m\u001B[38;5;241;43m.\u001B[39;49m\u001B[43moptions\u001B[49m\u001B[38;5;241;43m.\u001B[39;49m\u001B[43mget\u001B[49m\u001B[43m(\u001B[49m\u001B[38;5;124;43m\"\u001B[39;49m\u001B[38;5;124;43mencoding\u001B[39;49m\u001B[38;5;124;43m\"\u001B[39;49m\u001B[43m,\u001B[49m\u001B[43m \u001B[49m\u001B[38;5;28;43;01mNone\u001B[39;49;00m\u001B[43m)\u001B[49m\u001B[43m,\u001B[49m\n\u001B[1;32m   1739\u001B[0m \u001B[43m    \u001B[49m\u001B[43mcompression\u001B[49m\u001B[38;5;241;43m=\u001B[39;49m\u001B[38;5;28;43mself\u001B[39;49m\u001B[38;5;241;43m.\u001B[39;49m\u001B[43moptions\u001B[49m\u001B[38;5;241;43m.\u001B[39;49m\u001B[43mget\u001B[49m\u001B[43m(\u001B[49m\u001B[38;5;124;43m\"\u001B[39;49m\u001B[38;5;124;43mcompression\u001B[39;49m\u001B[38;5;124;43m\"\u001B[39;49m\u001B[43m,\u001B[49m\u001B[43m \u001B[49m\u001B[38;5;28;43;01mNone\u001B[39;49;00m\u001B[43m)\u001B[49m\u001B[43m,\u001B[49m\n\u001B[1;32m   1740\u001B[0m \u001B[43m    \u001B[49m\u001B[43mmemory_map\u001B[49m\u001B[38;5;241;43m=\u001B[39;49m\u001B[38;5;28;43mself\u001B[39;49m\u001B[38;5;241;43m.\u001B[39;49m\u001B[43moptions\u001B[49m\u001B[38;5;241;43m.\u001B[39;49m\u001B[43mget\u001B[49m\u001B[43m(\u001B[49m\u001B[38;5;124;43m\"\u001B[39;49m\u001B[38;5;124;43mmemory_map\u001B[39;49m\u001B[38;5;124;43m\"\u001B[39;49m\u001B[43m,\u001B[49m\u001B[43m \u001B[49m\u001B[38;5;28;43;01mFalse\u001B[39;49;00m\u001B[43m)\u001B[49m\u001B[43m,\u001B[49m\n\u001B[1;32m   1741\u001B[0m \u001B[43m    \u001B[49m\u001B[43mis_text\u001B[49m\u001B[38;5;241;43m=\u001B[39;49m\u001B[43mis_text\u001B[49m\u001B[43m,\u001B[49m\n\u001B[1;32m   1742\u001B[0m \u001B[43m    \u001B[49m\u001B[43merrors\u001B[49m\u001B[38;5;241;43m=\u001B[39;49m\u001B[38;5;28;43mself\u001B[39;49m\u001B[38;5;241;43m.\u001B[39;49m\u001B[43moptions\u001B[49m\u001B[38;5;241;43m.\u001B[39;49m\u001B[43mget\u001B[49m\u001B[43m(\u001B[49m\u001B[38;5;124;43m\"\u001B[39;49m\u001B[38;5;124;43mencoding_errors\u001B[39;49m\u001B[38;5;124;43m\"\u001B[39;49m\u001B[43m,\u001B[49m\u001B[43m \u001B[49m\u001B[38;5;124;43m\"\u001B[39;49m\u001B[38;5;124;43mstrict\u001B[39;49m\u001B[38;5;124;43m\"\u001B[39;49m\u001B[43m)\u001B[49m\u001B[43m,\u001B[49m\n\u001B[1;32m   1743\u001B[0m \u001B[43m    \u001B[49m\u001B[43mstorage_options\u001B[49m\u001B[38;5;241;43m=\u001B[39;49m\u001B[38;5;28;43mself\u001B[39;49m\u001B[38;5;241;43m.\u001B[39;49m\u001B[43moptions\u001B[49m\u001B[38;5;241;43m.\u001B[39;49m\u001B[43mget\u001B[49m\u001B[43m(\u001B[49m\u001B[38;5;124;43m\"\u001B[39;49m\u001B[38;5;124;43mstorage_options\u001B[39;49m\u001B[38;5;124;43m\"\u001B[39;49m\u001B[43m,\u001B[49m\u001B[43m \u001B[49m\u001B[38;5;28;43;01mNone\u001B[39;49;00m\u001B[43m)\u001B[49m\u001B[43m,\u001B[49m\n\u001B[1;32m   1744\u001B[0m \u001B[43m\u001B[49m\u001B[43m)\u001B[49m\n\u001B[1;32m   1745\u001B[0m \u001B[38;5;28;01massert\u001B[39;00m \u001B[38;5;28mself\u001B[39m\u001B[38;5;241m.\u001B[39mhandles \u001B[38;5;129;01mis\u001B[39;00m \u001B[38;5;129;01mnot\u001B[39;00m \u001B[38;5;28;01mNone\u001B[39;00m\n\u001B[1;32m   1746\u001B[0m f \u001B[38;5;241m=\u001B[39m \u001B[38;5;28mself\u001B[39m\u001B[38;5;241m.\u001B[39mhandles\u001B[38;5;241m.\u001B[39mhandle\n",
      "File \u001B[0;32m/Library/Frameworks/Python.framework/Versions/3.10/lib/python3.10/site-packages/pandas/io/common.py:856\u001B[0m, in \u001B[0;36mget_handle\u001B[0;34m(path_or_buf, mode, encoding, compression, memory_map, is_text, errors, storage_options)\u001B[0m\n\u001B[1;32m    851\u001B[0m \u001B[38;5;28;01melif\u001B[39;00m \u001B[38;5;28misinstance\u001B[39m(handle, \u001B[38;5;28mstr\u001B[39m):\n\u001B[1;32m    852\u001B[0m     \u001B[38;5;66;03m# Check whether the filename is to be opened in binary mode.\u001B[39;00m\n\u001B[1;32m    853\u001B[0m     \u001B[38;5;66;03m# Binary mode does not support 'encoding' and 'newline'.\u001B[39;00m\n\u001B[1;32m    854\u001B[0m     \u001B[38;5;28;01mif\u001B[39;00m ioargs\u001B[38;5;241m.\u001B[39mencoding \u001B[38;5;129;01mand\u001B[39;00m \u001B[38;5;124m\"\u001B[39m\u001B[38;5;124mb\u001B[39m\u001B[38;5;124m\"\u001B[39m \u001B[38;5;129;01mnot\u001B[39;00m \u001B[38;5;129;01min\u001B[39;00m ioargs\u001B[38;5;241m.\u001B[39mmode:\n\u001B[1;32m    855\u001B[0m         \u001B[38;5;66;03m# Encoding\u001B[39;00m\n\u001B[0;32m--> 856\u001B[0m         handle \u001B[38;5;241m=\u001B[39m \u001B[38;5;28;43mopen\u001B[39;49m\u001B[43m(\u001B[49m\n\u001B[1;32m    857\u001B[0m \u001B[43m            \u001B[49m\u001B[43mhandle\u001B[49m\u001B[43m,\u001B[49m\n\u001B[1;32m    858\u001B[0m \u001B[43m            \u001B[49m\u001B[43mioargs\u001B[49m\u001B[38;5;241;43m.\u001B[39;49m\u001B[43mmode\u001B[49m\u001B[43m,\u001B[49m\n\u001B[1;32m    859\u001B[0m \u001B[43m            \u001B[49m\u001B[43mencoding\u001B[49m\u001B[38;5;241;43m=\u001B[39;49m\u001B[43mioargs\u001B[49m\u001B[38;5;241;43m.\u001B[39;49m\u001B[43mencoding\u001B[49m\u001B[43m,\u001B[49m\n\u001B[1;32m    860\u001B[0m \u001B[43m            \u001B[49m\u001B[43merrors\u001B[49m\u001B[38;5;241;43m=\u001B[39;49m\u001B[43merrors\u001B[49m\u001B[43m,\u001B[49m\n\u001B[1;32m    861\u001B[0m \u001B[43m            \u001B[49m\u001B[43mnewline\u001B[49m\u001B[38;5;241;43m=\u001B[39;49m\u001B[38;5;124;43m\"\u001B[39;49m\u001B[38;5;124;43m\"\u001B[39;49m\u001B[43m,\u001B[49m\n\u001B[1;32m    862\u001B[0m \u001B[43m        \u001B[49m\u001B[43m)\u001B[49m\n\u001B[1;32m    863\u001B[0m     \u001B[38;5;28;01melse\u001B[39;00m:\n\u001B[1;32m    864\u001B[0m         \u001B[38;5;66;03m# Binary mode\u001B[39;00m\n\u001B[1;32m    865\u001B[0m         handle \u001B[38;5;241m=\u001B[39m \u001B[38;5;28mopen\u001B[39m(handle, ioargs\u001B[38;5;241m.\u001B[39mmode)\n",
      "\u001B[0;31mFileNotFoundError\u001B[0m: [Errno 2] No such file or directory: '../Measurements/M/timeM200.800000Multiple.csv'"
     ]
    }
   ],
   "source": [
    "measured_data = pd.read_csv(\"../Measurements/M/timeM200.800000Multiple.csv\")\n",
    "Steps = measured_data[\"time\"]\n",
    "cnt = 0\n",
    "sum = 0\n",
    "for i in Steps:\n",
    "    cnt = cnt + 1\n",
    "    sum = sum + i\n",
    "\n",
    "print(sum/cnt)"
   ],
   "metadata": {
    "collapsed": false
   }
  },
  {
   "cell_type": "markdown",
   "source": [],
   "metadata": {
    "collapsed": false
   }
  },
  {
   "cell_type": "code",
   "execution_count": null,
   "outputs": [],
   "source": [
    "measured_data = pd.read_csv(\"../Measurements-final/Steps/wuf50-0102_steps_weight0.920000Final_prubeh.csv\")\n",
    "Steps = measured_data[\"Steps\"]\n",
    "Conf_Weight = measured_data[\"Weight\"]\n",
    "\n",
    "plt.title('Vývoj váhy přijatých řešení při běhu programu')\n",
    "plt.plot(Steps, Conf_Weight, color='green', linewidth = 1, markerfacecolor='blue')\n",
    "\n",
    "plt.xlabel(\"Počet navštívených stavů\")\n",
    "plt.ylabel(\"Váha přijatého řešení\")\n",
    "\n",
    "plt.savefig(\"../graphs/wuf50_0102_prubeh_Visited_States.png\")\n",
    "\n",
    "plt.show()"
   ],
   "metadata": {
    "collapsed": false
   }
  },
  {
   "cell_type": "markdown",
   "source": [
    "## Black Box\n"
   ],
   "metadata": {
    "collapsed": false
   }
  },
  {
   "cell_type": "markdown",
   "source": [
    "# M"
   ],
   "metadata": {
    "collapsed": false
   }
  },
  {
   "cell_type": "code",
   "execution_count": null,
   "outputs": [],
   "source": [
    "MyData = open(\"../Measurements-final/M/M200.950000BlackBox.dat\", \"r\")\n",
    "Optimal_data = open(\"../../../wuf20-91/wuf20-91-M-opt.dat\", \"r\")\n",
    "Relative_Error(MyData, Optimal_data)"
   ],
   "metadata": {
    "collapsed": false
   }
  },
  {
   "cell_type": "code",
   "execution_count": null,
   "outputs": [],
   "source": [
    "measured_data = pd.read_csv(\"../Measurements-final/M/M200.950000BlackBox.csv\")\n",
    "Steps = measured_data[\"time\"]\n",
    "cnt = 0\n",
    "sum = 0\n",
    "for i in Steps:\n",
    "    cnt = cnt + 1\n",
    "    sum = sum + i\n",
    "\n",
    "print(sum/cnt)\n",
    "\n"
   ],
   "metadata": {
    "collapsed": false
   }
  },
  {
   "cell_type": "markdown",
   "source": [
    "# N"
   ],
   "metadata": {
    "collapsed": false
   }
  },
  {
   "cell_type": "code",
   "execution_count": null,
   "outputs": [],
   "source": [
    "MyData = open(\"../Measurements-final/N/N200.950000BlackBox.dat\", \"r\")\n",
    "Optimal_data = open(\"../../../wuf20-91/wuf20-91-N-opt.dat\", \"r\")\n",
    "Relative_Error(MyData, Optimal_data)"
   ],
   "metadata": {
    "collapsed": false
   }
  },
  {
   "cell_type": "code",
   "execution_count": null,
   "outputs": [],
   "source": [
    "#instance,Equilibrium,InitT,coolFactor,steps,time, succ\n",
    "measured_data = pd.read_csv(\"../Measurements-final/N/N200.950000BlackBox.csv\")\n",
    "Steps = measured_data[\"time\"]\n",
    "cnt = 0\n",
    "sum = 0\n",
    "for i in Steps:\n",
    "    cnt = cnt + 1\n",
    "    sum = sum + i\n",
    "\n",
    "print(sum/cnt)\n",
    "\n"
   ],
   "metadata": {
    "collapsed": false
   }
  },
  {
   "cell_type": "markdown",
   "source": [
    "# R"
   ],
   "metadata": {
    "collapsed": false
   }
  },
  {
   "cell_type": "code",
   "execution_count": null,
   "outputs": [],
   "source": [
    "MyData = open(\"../Measurements-final/R/R200.950000BlackBox.dat\", \"r\")\n",
    "Optimal_data = open(\"../../../wuf20-91/wuf20-91-R-opt.dat\", \"r\")\n",
    "Relative_Error(MyData, Optimal_data)"
   ],
   "metadata": {
    "collapsed": false
   }
  },
  {
   "cell_type": "markdown",
   "source": [
    "# Q\n"
   ],
   "metadata": {
    "collapsed": false
   }
  },
  {
   "cell_type": "code",
   "execution_count": null,
   "outputs": [],
   "source": [
    "MyData = open(\"../Measurements-final/Q/Q200.950000BlackBox.dat\", \"r\")\n",
    "Optimal_data = open(\"../../../wuf20-91/wuf20-91-Q-opt.dat\", \"r\")\n",
    "Relative_Error(MyData, Optimal_data)"
   ],
   "metadata": {
    "collapsed": false
   }
  },
  {
   "cell_type": "code",
   "execution_count": null,
   "outputs": [],
   "source": [
    "measured_data = pd.read_csv(\"../Measurements-final/Q/Q200.950000BlackBox.csv\")\n",
    "Steps = measured_data[\"time\"]\n",
    "cnt = 0\n",
    "sum = 0\n",
    "for i in Steps:\n",
    "    cnt = cnt + 1\n",
    "    sum = sum + i\n",
    "\n",
    "print(sum/cnt)"
   ],
   "metadata": {
    "collapsed": false
   }
  },
  {
   "cell_type": "markdown",
   "source": [
    "## 50 variables"
   ],
   "metadata": {
    "collapsed": false
   }
  },
  {
   "cell_type": "markdown",
   "source": [
    "## M"
   ],
   "metadata": {
    "collapsed": false
   }
  },
  {
   "cell_type": "code",
   "execution_count": null,
   "outputs": [],
   "source": [
    "MyData = open(\"../Measurements-final/M/M500.950000BlackBox.dat\", \"r\")\n",
    "Optimal_data = open(\"../../../wuf50-218/wuf50-218-M-opt.dat\", \"r\")\n",
    "Relative_Error(MyData, Optimal_data)"
   ],
   "metadata": {
    "collapsed": false
   }
  },
  {
   "cell_type": "code",
   "execution_count": null,
   "outputs": [],
   "source": [
    "measured_data = pd.read_csv(\"../Measurements-final/M/M500.950000BlackBox.csv\")\n",
    "Steps = measured_data[\"time\"]\n",
    "cnt = 0\n",
    "sum = 0\n",
    "for i in Steps:\n",
    "    cnt = cnt + 1\n",
    "    sum = sum + i\n",
    "\n",
    "print(sum/cnt)"
   ],
   "metadata": {
    "collapsed": false
   }
  },
  {
   "cell_type": "markdown",
   "source": [
    "## N"
   ],
   "metadata": {
    "collapsed": false
   }
  },
  {
   "cell_type": "code",
   "execution_count": null,
   "outputs": [],
   "source": [
    "MyData = open(\"../Measurements-final/N/N500.950000BlackBox.dat\", \"r\")\n",
    "Optimal_data = open(\"../../../wuf50-218/wuf50-218-N-opt.dat\", \"r\")\n",
    "Relative_Error(MyData, Optimal_data)"
   ],
   "metadata": {
    "collapsed": false
   }
  },
  {
   "cell_type": "code",
   "execution_count": null,
   "outputs": [],
   "source": [
    "measured_data = pd.read_csv(\"../Measurements-final/N/N500.950000BlackBox.csv\")\n",
    "Steps = measured_data[\"time\"]\n",
    "cnt = 0\n",
    "sum = 0\n",
    "for i in Steps:\n",
    "    cnt = cnt + 1\n",
    "    sum = sum + i\n",
    "\n",
    "print(sum/cnt)"
   ],
   "metadata": {
    "collapsed": false
   }
  },
  {
   "cell_type": "markdown",
   "source": [
    "## R"
   ],
   "metadata": {
    "collapsed": false
   }
  },
  {
   "cell_type": "code",
   "execution_count": null,
   "outputs": [],
   "source": [
    "MyData = open(\"../Measurements-final/R/R500.950000BlackBox.dat\", \"r\")\n",
    "Optimal_data = open(\"../../../wuf50-218/wuf50-218-R-opt.dat\", \"r\")\n",
    "Relative_Error(MyData, Optimal_data)"
   ],
   "metadata": {
    "collapsed": false
   }
  },
  {
   "cell_type": "markdown",
   "source": [
    "  ## Q"
   ],
   "metadata": {
    "collapsed": false
   }
  },
  {
   "cell_type": "code",
   "execution_count": null,
   "outputs": [],
   "source": [
    "MyData = open(\"../Measurements-final/Q/Q500.950000BlackBox.dat\", \"r\")\n",
    "Optimal_data = open(\"../../../wuf50-218/wuf50-218-Q-opt.dat\", \"r\")\n",
    "Relative_Error(MyData, Optimal_data)"
   ],
   "metadata": {
    "collapsed": false
   }
  },
  {
   "cell_type": "markdown",
   "source": [
    "## 75"
   ],
   "metadata": {
    "collapsed": false
   }
  },
  {
   "cell_type": "code",
   "execution_count": null,
   "outputs": [],
   "source": [
    "MyData = open(\"../Measurements-final/M/M750.950000BlackBox.dat\", \"r\")\n",
    "Optimal_data = open(\"../../../wuf75-325/wuf75-325-M-opt.dat\", \"r\")\n",
    "Relative_Error(MyData, Optimal_data)"
   ],
   "metadata": {
    "collapsed": false
   }
  },
  {
   "cell_type": "code",
   "execution_count": null,
   "outputs": [],
   "source": [
    "measured_data = pd.read_csv(\"../Measurements-final/M/M750.950000BlackBox.csv\")\n",
    "Steps = measured_data[\"time\"]\n",
    "cnt = 0\n",
    "sum = 0\n",
    "for i in Steps:\n",
    "    cnt = cnt + 1\n",
    "    sum = sum + i\n",
    "\n",
    "print(sum/cnt)"
   ],
   "metadata": {
    "collapsed": false
   }
  },
  {
   "cell_type": "code",
   "execution_count": null,
   "outputs": [],
   "source": [
    "MyData = open(\"../Measurements-final/N/N750.950000BlackBox.dat\", \"r\")\n",
    "Optimal_data = open(\"../../../wuf75-325/wuf75-325-N-opt.dat\", \"r\")\n",
    "Relative_Error(MyData, Optimal_data)"
   ],
   "metadata": {
    "collapsed": false
   }
  },
  {
   "cell_type": "code",
   "execution_count": null,
   "outputs": [],
   "source": [
    "measured_data = pd.read_csv(\"../Measurements-final/N/N750.950000BlackBox.csv\")\n",
    "Steps = measured_data[\"time\"]\n",
    "cnt = 0\n",
    "sum = 0\n",
    "for i in Steps:\n",
    "    cnt = cnt + 1\n",
    "    sum = sum + i\n",
    "\n",
    "print(sum/cnt)"
   ],
   "metadata": {
    "collapsed": false
   }
  },
  {
   "cell_type": "code",
   "execution_count": null,
   "outputs": [],
   "source": [
    "1"
   ],
   "metadata": {
    "collapsed": false
   }
  }
 ],
 "metadata": {
  "kernelspec": {
   "display_name": "Python 3 (ipykernel)",
   "language": "python",
   "name": "python3"
  },
  "language_info": {
   "codemirror_mode": {
    "name": "ipython",
    "version": 3
   },
   "file_extension": ".py",
   "mimetype": "text/x-python",
   "name": "python",
   "nbconvert_exporter": "python",
   "pygments_lexer": "ipython3",
   "version": "3.10.7"
  }
 },
 "nbformat": 4,
 "nbformat_minor": 1
}
